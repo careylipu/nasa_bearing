{
 "cells": [
  {
   "cell_type": "markdown",
   "metadata": {},
   "source": [
    "The purpose of these notebooks is to explore a predefined dataset and tutorial using OSIsoft Cloud Services as the data store"
   ]
  },
  {
   "cell_type": "markdown",
   "metadata": {},
   "source": [
    "# Setup the environment to run the following notebooks"
   ]
  },
  {
   "cell_type": "raw",
   "metadata": {},
   "source": [
    "# Note: Ideally someone has already loaded the dataset and provided you with the \n",
    "# configuration details below to the dataset location in OCS - this is recommended \n",
    "# over (re-)loading the dataset again.\n",
    "#\n",
    "# If necessary the notebooks prefixed Appendix provide instructions on loading either the entire dataset or the aggregated values that are used in the following notebooks"
   ]
  },
  {
   "cell_type": "code",
   "execution_count": 2,
   "metadata": {},
   "outputs": [],
   "source": [
    "# Specify the OCS tenant, namespace, and credentials, and possibly the ApiVersion by either:\n",
    "# a) Update the parameters below, uncomment the last line (the print line that updates the file) and run this cell\n",
    "# b) edit and save the config.ini file directly\n",
    "#\n",
    "config = \"\"\"\n",
    "[Configurations]\n",
    "; specify the tenant namespace\n",
    "Namespace = <name-of-namespace>\n",
    "\n",
    "[Access]\n",
    "Resource = https://staging.osipi.com\n",
    "; specify the tenant id\n",
    "Tenant = <tenant-id>\n",
    "ApiVersion = v1\n",
    "\n",
    "; enter credentials that have read/write access to the namespace\n",
    "[Credentials]\n",
    "ClientId = <client-id>\n",
    "ClientSecret = <client-secret>\n",
    "\"\"\"\n",
    "# The following command writes the configuration for use by other notebooks\n",
    "#print(config,  file=open('config.ini', 'w'))"
   ]
  },
  {
   "cell_type": "code",
   "execution_count": null,
   "metadata": {},
   "outputs": [],
   "source": [
    "# install required packages (if required!)\n",
    "#!pip install -r requirements.txt"
   ]
  },
  {
   "cell_type": "code",
   "execution_count": null,
   "metadata": {},
   "outputs": [],
   "source": []
  }
 ],
 "metadata": {
  "kernelspec": {
   "display_name": "Python 3",
   "language": "python",
   "name": "python3"
  },
  "language_info": {
   "codemirror_mode": {
    "name": "ipython",
    "version": 3
   },
   "file_extension": ".py",
   "mimetype": "text/x-python",
   "name": "python",
   "nbconvert_exporter": "python",
   "pygments_lexer": "ipython3",
   "version": "3.7.0"
  }
 },
 "nbformat": 4,
 "nbformat_minor": 4
}
