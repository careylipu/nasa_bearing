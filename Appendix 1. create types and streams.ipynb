{
 "cells": [
  {
   "cell_type": "markdown",
   "metadata": {},
   "source": [
    "# Create type and streams"
   ]
  },
  {
   "cell_type": "markdown",
   "metadata": {},
   "source": [
    "\n",
    "Objective load a dataset and run a pre-defined set of analyses\n",
    "\n",
    "This set of notebooks is based upon \n",
    "1. NASA bearing dataset: http://data-acoustics.com/measurements/bearing-faults/bearing-4/\n",
    "   Set number 2: 4 accelerometers one on each bearing\n",
    "2. Tutorial: https://towardsdatascience.com/machine-learning-for-anomaly-detection-and-condition-monitoring-d4614e7de770\n",
    "\n",
    "Acknowledgement is made for the measurements used in this work provided through data-acoustics.com Database\n",
    "\n",
    "Requirements:\n",
    "\n",
    "1. Juptyer notebook or lab\n",
    "2. Python \n",
    "3. ocs_sample_library https://github.com/osisoft/OSI-Samples/tree/master/ocs_samples/library_samples/Python3\n",
    "4. config.ini configured for your OSIsoft Cloud Services environment. Example here:\n",
    "https://github.com/osisoft/OSI-Samples/tree/master/ocs_samples/basic_samples/SDS/Python/SDSPy/Python3\n"
   ]
  },
  {
   "cell_type": "markdown",
   "metadata": {},
   "source": [
    "# Note: Follow the instructions in the notebook '0. configure...' prior to running this notebook"
   ]
  },
  {
   "cell_type": "code",
   "execution_count": 1,
   "metadata": {},
   "outputs": [
    {
     "name": "stdout",
     "output_type": "stream",
     "text": [
      "RS-MEA\n"
     ]
    }
   ],
   "source": [
    "import configparser\n",
    "import logging\n",
    "from ocs_sample_library_preview import *\n",
    "import json\n",
    "\n",
    "config = configparser.ConfigParser()\n",
    "config.read('config.ini')\n",
    "\n",
    "ocsClient = OCSClient(config.get('Access', 'ApiVersion'), config.get('Access', 'Tenant'), config.get('Access', 'Resource'), \n",
    "                        config.get('Credentials', 'ClientId'), config.get('Credentials', 'ClientSecret'))\n",
    "        \n",
    "\n",
    "namespace_id = config.get('Configurations', 'Namespace')\n",
    "print(namespace_id)"
   ]
  },
  {
   "cell_type": "markdown",
   "metadata": {},
   "source": [
    "# Create a type and streams to describe the bearing data"
   ]
  },
  {
   "cell_type": "code",
   "execution_count": 2,
   "metadata": {},
   "outputs": [],
   "source": [
    "# Dictionary to describe information about the type\n",
    "thetype = {'sdstypecode': SdsTypeCode.Object, \n",
    "           'id': 'bearing',\n",
    "           'name': 'bearing', \n",
    "           'description': 'bearing vibration signals'}\n",
    "\n",
    "# sds type properties\n",
    "timestamp_property = SdsTypeProperty()\n",
    "timestamp_property.Id = \"timestamp\"\n",
    "timestamp_property.SdsType = SdsType.fromDictionary({\"SdsTypeCode\": SdsTypeCode.DateTime.value})\n",
    "timestamp_property.IsKey = True\n",
    "\n",
    "index_property = SdsTypeProperty()\n",
    "index_property.Id = \"index\"\n",
    "index_property.SdsType = SdsType.fromDictionary({\"SdsTypeCode\": SdsTypeCode.Decimal.value})\n",
    "\n",
    "channel_property =  SdsTypeProperty()\n",
    "channel_property.Id = \"channel\"\n",
    "channel_property.SdsType = SdsType.fromJson({\"SdsTypeCode\" : SdsTypeCode.Double.value})\n",
    "\n",
    "# sds type defintion\n",
    "bearing = SdsType()\n",
    "bearing.Id = thetype['id']\n",
    "bearing.SdsTypeCode = thetype['sdstypecode']\n",
    "bearing.Name = thetype['name']\n",
    "bearing.Description=thetype['description']\n",
    "bearing.Properties = [timestamp_property,index_property,channel_property]\n",
    "\n",
    "bearing_type = ocsClient.Types.getOrCreateType(namespace_id, bearing)\n",
    "#print(json.dumps(json.loads(bearing_type.toJson()), indent=4))"
   ]
  },
  {
   "cell_type": "code",
   "execution_count": 3,
   "metadata": {},
   "outputs": [
    {
     "name": "stdout",
     "output_type": "stream",
     "text": [
      "id: NASA.Bearing1, name: bearing1\n",
      "id: NASA.Bearing2, name: bearing2\n",
      "id: NASA.Bearing3, name: bearing3\n",
      "id: NASA.Bearing4, name: bearing4\n"
     ]
    }
   ],
   "source": [
    "# create the streams using the defined type\n",
    "for bearing in range (1,5):\n",
    "    stream = SdsStream(id=f'NASA.Bearing{bearing}',name=f'bearing{bearing}', description=f'Bearing {bearing} Channel 1', typeId='bearing')\n",
    "    stream = ocsClient.Streams.getOrCreateStream(namespace_id,stream)\n",
    "    print(f'id: {stream.Id}, name: {stream.Name}')"
   ]
  },
  {
   "cell_type": "markdown",
   "metadata": {},
   "source": [
    "# Create a type and streams to store the aggregate value for each sample"
   ]
  },
  {
   "cell_type": "code",
   "execution_count": 4,
   "metadata": {},
   "outputs": [],
   "source": [
    "# Dictionary to describe information about the type\n",
    "thetype = {'sdstypecode': SdsTypeCode.Object, \n",
    "           'id': 'bearing.agg',\n",
    "           'name': 'bearing channel aggregate', \n",
    "           'description': 'bearing vibration signals'}\n",
    "\n",
    "# sds type defintion\n",
    "bearing = SdsType()\n",
    "bearing.Id = thetype['id']\n",
    "bearing.SdsTypeCode = thetype['sdstypecode']\n",
    "bearing.Name = thetype['name']\n",
    "bearing.Description=thetype['description']\n",
    "# use previous definitions for properties\n",
    "bearing.Properties = [timestamp_property,channel_property]\n",
    "\n",
    "bearing_type = ocsClient.Types.getOrCreateType(namespace_id, bearing)\n",
    "#print(json.dumps(json.loads(bearing_type.toJson()), indent=4))"
   ]
  },
  {
   "cell_type": "code",
   "execution_count": 10,
   "metadata": {},
   "outputs": [
    {
     "name": "stdout",
     "output_type": "stream",
     "text": [
      "id: NASA.Bearing1.agg, name: bearing1 aggregate\n",
      "id: NASA.Bearing2.agg, name: bearing2 aggregate\n",
      "id: NASA.Bearing3.agg, name: bearing3 aggregate\n",
      "id: NASA.Bearing4.agg, name: bearing4 aggregate\n"
     ]
    }
   ],
   "source": [
    "# create the streams using the defined type\n",
    "for bearing in range (1,5):\n",
    "    stream = SdsStream(id=f'NASA.Bearing{bearing}.agg',name=f'bearing{bearing} aggregate', description=f'Bearing {bearing} Channel 1', typeId='bearing.agg')\n",
    "    ocsClient.Streams.createOrUpdateStream(namespace_id,stream)\n",
    "    print(f'id: {stream.Id}, name: {stream.Name}')"
   ]
  },
  {
   "cell_type": "code",
   "execution_count": null,
   "metadata": {},
   "outputs": [],
   "source": []
  }
 ],
 "metadata": {
  "kernelspec": {
   "display_name": "Python 3",
   "language": "python",
   "name": "python3"
  },
  "language_info": {
   "codemirror_mode": {
    "name": "ipython",
    "version": 3
   },
   "file_extension": ".py",
   "mimetype": "text/x-python",
   "name": "python",
   "nbconvert_exporter": "python",
   "pygments_lexer": "ipython3",
   "version": "3.7.0"
  }
 },
 "nbformat": 4,
 "nbformat_minor": 2
}
